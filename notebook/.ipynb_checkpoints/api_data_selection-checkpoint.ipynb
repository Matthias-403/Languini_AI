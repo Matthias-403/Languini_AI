{
 "cells": [
  {
   "cell_type": "code",
   "execution_count": 23,
   "id": "21f4c262",
   "metadata": {},
   "outputs": [],
   "source": [
    "import pandas as pd\n",
    "import os, json\n",
    "import requests"
   ]
  },
  {
   "cell_type": "markdown",
   "id": "375d58c7",
   "metadata": {},
   "source": [
    "Import and clean the data"
   ]
  },
  {
   "cell_type": "code",
   "execution_count": 40,
   "id": "7dd14ac9",
   "metadata": {},
   "outputs": [],
   "source": [
    "name_list=os.listdir('raw_data')"
   ]
  },
  {
   "cell_type": "code",
   "execution_count": 42,
   "id": "e0365884",
   "metadata": {},
   "outputs": [],
   "source": [
    "def get_data_from_json(file_name):\n",
    "\n",
    "    json_file = f'raw_data/{file_name}'\n",
    "    with open(json_file,'r') as f:\n",
    "        all_data=json.load(f)\n",
    "    data=all_data['items']  \n",
    "    df = pd.DataFrame.from_records(data)[['id','word','rate', 'username', 'sex', 'code',\n",
    "                                          'country','num_votes', 'num_positive_votes', 'pathmp3']]\n",
    "    return df"
   ]
  },
  {
   "cell_type": "code",
   "execution_count": 59,
   "id": "51e05b85",
   "metadata": {},
   "outputs": [],
   "source": [
    "df_list=[]\n",
    "df_list_one_mp3=[]\n",
    "for file in name_list:\n",
    "    df=get_data_from_json(file)\n",
    "    \n",
    "    #filter only for UK\n",
    "    #df=df.loc[df['country'] == 'United Kingdom'] \n",
    "    \n",
    "    #get top two results\n",
    "    df=df.head(2)\n",
    "    if df.shape[0] == 2:\n",
    "        \n",
    "        #create list of dataframes\n",
    "        df_list.append(df)\n",
    "    elif df.shape[0] == 1:\n",
    "        df_list_one_mp3.append(df)\n",
    "    \n",
    "#merge dataframes\n",
    "main_df = pd.concat(df_list)\n",
    "main_df=main_df.reset_index(drop=True)\n",
    "if len(df_list_one_mp3)!=0:\n",
    "    single_mp3_df = pd.concat(df_list_one_mp3)"
   ]
  },
  {
   "cell_type": "markdown",
   "id": "7c9c6f23",
   "metadata": {},
   "source": [
    "Download the MP3 files"
   ]
  },
  {
   "cell_type": "code",
   "execution_count": 32,
   "id": "5b2e5862",
   "metadata": {},
   "outputs": [],
   "source": [
    "for index,row in main_df.iterrows():\n",
    "    response = requests.get(row['pathmp3'])\n",
    "    name=row['id']\n",
    "    with open(f'{name}.mp3','wb') as f:\n",
    "        f.write(response.content)"
   ]
  }
 ],
 "metadata": {
  "kernelspec": {
   "display_name": "Python 3 (ipykernel)",
   "language": "python",
   "name": "python3"
  },
  "language_info": {
   "codemirror_mode": {
    "name": "ipython",
    "version": 3
   },
   "file_extension": ".py",
   "mimetype": "text/x-python",
   "name": "python",
   "nbconvert_exporter": "python",
   "pygments_lexer": "ipython3",
   "version": "3.10.6"
  },
  "toc": {
   "base_numbering": 1,
   "nav_menu": {},
   "number_sections": true,
   "sideBar": true,
   "skip_h1_title": false,
   "title_cell": "Table of Contents",
   "title_sidebar": "Contents",
   "toc_cell": false,
   "toc_position": {},
   "toc_section_display": true,
   "toc_window_display": false
  }
 },
 "nbformat": 4,
 "nbformat_minor": 5
}
