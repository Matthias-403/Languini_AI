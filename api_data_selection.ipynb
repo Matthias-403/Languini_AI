{
 "cells": [
  {
   "cell_type": "code",
   "execution_count": 1,
   "id": "21f4c262",
   "metadata": {},
   "outputs": [],
   "source": [
    "import pandas as pd\n",
    "import os, json\n",
    "import requests"
   ]
  },
  {
   "cell_type": "markdown",
   "id": "375d58c7",
   "metadata": {},
   "source": [
    "Import and clean the data"
   ]
  },
  {
   "cell_type": "code",
   "execution_count": 2,
   "id": "7dd14ac9",
   "metadata": {},
   "outputs": [],
   "source": [
    "name_list=os.listdir('raw_data/json')"
   ]
  },
  {
   "cell_type": "code",
   "execution_count": 14,
   "id": "8db39e9b",
   "metadata": {},
   "outputs": [],
   "source": [
    "def get_data_from_json(file_name):\n",
    "    \"\"\"\n",
    "    Loads a json file from a set location and returns a Pandas dataframe with its items data.\n",
    "    If the file has no item inputs the function returns None.\n",
    "    \"\"\"\n",
    "    json_file = 'raw_data/json/' + file_name\n",
    "    with open(json_file,'r') as f:\n",
    "        all_data = json.load(f)\n",
    "        data = all_data['items'] \n",
    "        if data == []:\n",
    "            return None\n",
    "        df = pd.DataFrame.from_records(data)[['id','word','rate', 'username', 'sex', 'code',\n",
    "                                          'country','num_votes', 'num_positive_votes', 'pathmp3']]\n",
    "    return df"
   ]
  },
  {
   "cell_type": "code",
   "execution_count": 5,
   "id": "51e05b85",
   "metadata": {},
   "outputs": [],
   "source": [
    "def filter_and_merge_json(name_list):\n",
    "    \"\"\"\n",
    "    Loops through json files in a list and adds the first 2 item inputs from each to a dataframe.\n",
    "    If there is only one input, it is added to a seperate dataframe. \n",
    "    \"\"\"\n",
    "    df_list=[]\n",
    "    df_list_one_mp3=[]\n",
    "    for file in name_list:\n",
    "        df=get_data_from_json(file)\n",
    "    \n",
    "    #get top two results\n",
    "        df=df.head(2)\n",
    "        if df.shape[0] == 2:\n",
    "        \n",
    "    #create lists of dataframes\n",
    "            df_list.append(df)\n",
    "        elif df.shape[0] == 1:\n",
    "            df_list_one_mp3.append(df)\n",
    "    \n",
    "    #merge dataframes\n",
    "    main_df = pd.concat(df_list)\n",
    "    main_df=main_df.reset_index(drop=True)\n",
    "    if len(df_list_one_mp3)!=0:\n",
    "        single_mp3_df = pd.concat(df_list_one_mp3)\n",
    "    return main_df, single_mp3_df"
   ]
  },
  {
   "cell_type": "code",
   "execution_count": 6,
   "id": "98d80764",
   "metadata": {},
   "outputs": [],
   "source": [
    "main_df, single_mp3_df = filter_and_merge_json(name_list)"
   ]
  },
  {
   "cell_type": "markdown",
   "id": "7c9c6f23",
   "metadata": {},
   "source": [
    "Download the MP3 files"
   ]
  },
  {
   "cell_type": "code",
   "execution_count": 16,
   "id": "5b2e5862",
   "metadata": {},
   "outputs": [],
   "source": [
    "def save_mp3(df, two_inputs=True):\n",
    "    \"\"\"\n",
    "    Uses a dataframe with words and a link to an their pronunciation audio and saves the audio inputs as mp3 files.\n",
    "    two_inputs == True: the dataframe has 2 instances of each word and the mp3 file of each is saved in a different directory.\n",
    "    \n",
    "    \"\"\"\n",
    "    if two_inputs==True:\n",
    "        word=''\n",
    "        for index,row in df.iterrows():\n",
    "            response = requests.get(row['pathmp3'])\n",
    "            name=row['word']\n",
    "            if word != name:\n",
    "                with open(f'api_data/speaker1/{name}.mp3','wb') as f:\n",
    "                    f.write(response.content)\n",
    "                    word=name\n",
    "            else:\n",
    "                 with open(f'api_data/speaker2/{name}.mp3','wb') as f:\n",
    "                    f.write(response.content) \n",
    "        return \n",
    "    #if df has one input per word\n",
    "    else:\n",
    "        for index,row in df.iterrows():\n",
    "            response = requests.get(row['pathmp3'])\n",
    "            name=row['word']\n",
    "            with open(f'api_data/single_speaker/{name}.mp3','wb') as f:\n",
    "                f.write(response.content)\n",
    "        return"
   ]
  },
  {
   "cell_type": "code",
   "execution_count": 46,
   "id": "9e8d499f",
   "metadata": {},
   "outputs": [],
   "source": [
    "save_mp3(main_df)"
   ]
  },
  {
   "cell_type": "code",
   "execution_count": null,
   "id": "85f3c6ca",
   "metadata": {},
   "outputs": [],
   "source": [
    "save_mp3(single_mp3_df, two_inputs = False)"
   ]
  }
 ],
 "metadata": {
  "kernelspec": {
   "display_name": "Python 3 (ipykernel)",
   "language": "python",
   "name": "python3"
  },
  "language_info": {
   "codemirror_mode": {
    "name": "ipython",
    "version": 3
   },
   "file_extension": ".py",
   "mimetype": "text/x-python",
   "name": "python",
   "nbconvert_exporter": "python",
   "pygments_lexer": "ipython3",
   "version": "3.10.6"
  },
  "toc": {
   "base_numbering": 1,
   "nav_menu": {},
   "number_sections": true,
   "sideBar": true,
   "skip_h1_title": false,
   "title_cell": "Table of Contents",
   "title_sidebar": "Contents",
   "toc_cell": false,
   "toc_position": {},
   "toc_section_display": true,
   "toc_window_display": false
  }
 },
 "nbformat": 4,
 "nbformat_minor": 5
}
